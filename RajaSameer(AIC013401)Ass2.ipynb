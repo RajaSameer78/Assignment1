{
 "cells": [
  {
   "cell_type": "code",
   "execution_count": null,
   "metadata": {},
   "outputs": [],
   "source": [
    "#-----------Assignment1-------------\n",
    "#----------RAJA SAMEER-------------\n",
    "#----------AIC013401--------------\n",
    "#----------Sunday 12:15 to 3:15 pm---------------\n",
    "\n",
    "\n",
    "#Q1.\tWrite a Python program which accepts the radius of a circle from the user and compute the area. \n",
    "r = float(input(\"Enter Radius of circle = \"))\n",
    "pi=3.142\n",
    "Area=r**2 * pi\n",
    "print(f\"Area of circle is: {Area}\")"
   ]
  },
  {
   "cell_type": "code",
   "execution_count": 3,
   "metadata": {},
   "outputs": [
    {
     "name": "stdout",
     "output_type": "stream",
     "text": [
      "Enter Number: -2\n",
      "It is negative number\n"
     ]
    }
   ],
   "source": [
    "#Q2.\tWrite a Python program to check if a number is positive, negative or zero\n",
    "num = int(input(\"Enter Number: \"))\n",
    "if(num>0):\n",
    "    print(\"It is positive number\")\n",
    "elif(num<0):\n",
    "    print(\"It is negative number\")\n",
    "elif(num==0):\n",
    "    print(\"It is Zero number\")\n",
    "    "
   ]
  },
  {
   "cell_type": "code",
   "execution_count": 1,
   "metadata": {},
   "outputs": [
    {
     "name": "stdout",
     "output_type": "stream",
     "text": [
      "Enter 1st number : 4\n",
      "Enter 2nd number : 2\n",
      "Number 1 is exactly divisible by number 2\n"
     ]
    }
   ],
   "source": [
    "#Q3.\tWrite a Python function to check whether a number is completely divisible by another \n",
    "#number. Accept two integer values form the user\n",
    "num=int(input(\"Enter 1st number : \"))\n",
    "num2=int(input(\"Enter 2nd number : \"))\n",
    "if(num%num2==0):\n",
    "    print(\"Number 1 is exactly divisible by number 2\")\n",
    "else:\n",
    "    print(\"Number 1 is not exactly divisible by Number 2\")"
   ]
  },
  {
   "cell_type": "code",
   "execution_count": null,
   "metadata": {},
   "outputs": [],
   "source": []
  },
  {
   "cell_type": "code",
   "execution_count": 1,
   "metadata": {},
   "outputs": [
    {
     "name": "stdout",
     "output_type": "stream",
     "text": [
      "366\n"
     ]
    }
   ],
   "source": [
    "#Q4:Write a Python program to calculate number of days between two dates \n",
    "\n",
    "from datetime import date\n",
    "F_Date=date(2015,4,1)\n",
    "L_Date=date(2016,4,1)\n",
    "D=L_Date-F_Date\n",
    "print(D.days)"
   ]
  },
  {
   "cell_type": "code",
   "execution_count": 2,
   "metadata": {},
   "outputs": [
    {
     "name": "stdout",
     "output_type": "stream",
     "text": [
      "Enter Radius of Sphere = 3\n",
      "Area of circle with radius is: 113.112\n"
     ]
    }
   ],
   "source": [
    "#Q5: Write a Python program to get the volume of a sphere, please take the radius as input from user \n",
    "r = float(input(\"Enter Radius of Sphere = \"))\n",
    "pi=3.142\n",
    "V=4/3*pi*r**3\n",
    "print(f\"Area of circle with radius is: {V}\")"
   ]
  },
  {
   "cell_type": "code",
   "execution_count": 15,
   "metadata": {},
   "outputs": [
    {
     "name": "stdout",
     "output_type": "stream",
     "text": [
      "Enter String : hi\n",
      "How many copies of String you need: 4\n",
      "4 Copies of hi are\n",
      "hihihihi"
     ]
    }
   ],
   "source": [
    "#Q6: Write a Python program to get a string which is n (non-negative integer) copies of a given string. \n",
    "str=input(\"Enter String : \")\n",
    "s=int(input(\"How many copies of String you need: \"))\n",
    "print(s ,\"Copies of\",str,\"are\")\n",
    "for x in range(0,s):\n",
    "    print(str, end='') \n",
    "\n"
   ]
  },
  {
   "cell_type": "code",
   "execution_count": 1,
   "metadata": {},
   "outputs": [
    {
     "name": "stdout",
     "output_type": "stream",
     "text": [
      "Enter Number9\n",
      "9 is Odd\n"
     ]
    }
   ],
   "source": [
    "#Q7:Write a Python program to find whether a given number (accept from the user) is even or odd, print out an appropriate \n",
    "n=int(input(\"Enter Number\"))\n",
    "if(n%2==0):\n",
    "    print(n,\"is Even\")\n",
    "elif(n%2!=0):\n",
    "    print(n,\"is Odd\")\n"
   ]
  },
  {
   "cell_type": "code",
   "execution_count": 4,
   "metadata": {},
   "outputs": [
    {
     "name": "stdout",
     "output_type": "stream",
     "text": [
      "Enter a Characterr\n",
      "Letter r is not a Vowel\n"
     ]
    }
   ],
   "source": [
    "#Q8:Write a Python program to test whether a passed letter is a vowel or not \n",
    "C=input(\"Enter a Character\")\n",
    "if(C=='A' or C=='E' or C=='I' or C=='O' or C=='U'):\n",
    "    print(\"Letter\",C,\"is Vowel\")\n",
    "else:\n",
    "   print(\"Letter\",C,\"is not Vowel\") \n",
    "    "
   ]
  },
  {
   "cell_type": "code",
   "execution_count": 10,
   "metadata": {},
   "outputs": [
    {
     "name": "stdout",
     "output_type": "stream",
     "text": [
      "Enter magnitude of Triangle base:50\n",
      "Enter Magnitude of Triangle Height:4\n",
      "Area of a Triangle with Height  4 and Base 50 is 100\n"
     ]
    }
   ],
   "source": [
    "#Q9:Write a Python program that will accept the base and height of a triangle and compute the area \n",
    "b=int(input(\"Enter magnitude of Triangle base:\"))\n",
    "h=int(input(\"Enter Magnitude of Triangle Height:\"))\n",
    "a=int(b*h/2)\n",
    "print(\"Area of a Triangle with Height \",h, \"and Base\" ,b, \"is\",a)"
   ]
  },
  {
   "cell_type": "code",
   "execution_count": 5,
   "metadata": {},
   "outputs": [
    {
     "name": "stdout",
     "output_type": "stream",
     "text": [
      "Please enter principal amount:10000\n",
      "Please Enter Rate of interest in %: 3.7\n",
      "Enter number of years for investment:7\n",
      "After 7 years your principal amount 10000 over an interest rate of 3.7 % will be 12895.89\n"
     ]
    }
   ],
   "source": [
    "#Q10:Write a Python program to compute the future value of a specified principal amount, rate of interest, and a number of years \n",
    "amount=int(input(\"Please enter principal amount:\"))\n",
    "intrest=float(input(\"Please Enter Rate of interest in %: \"))\n",
    "year=int(input(\"Enter number of years for investment:\"))\n",
    "futurevalue=amount*((1+(0.01*intrest))**year)\n",
    "print(\"After\",year,\"years your principal amount\",amount,\"over an interest rate of\",intrest,\"% will be\", round(futurevalue,2))"
   ]
  },
  {
   "cell_type": "code",
   "execution_count": 4,
   "metadata": {},
   "outputs": [
    {
     "name": "stdout",
     "output_type": "stream",
     "text": [
      "Enter Co-ordinate for x1:2\n",
      "Enter Co-ordinate for x2:4\n",
      "Enter Co-ordinate for y1:4\n",
      "Enter Co-ordinate for y2:4\n",
      "Distance between points (2, 4) and (4, 4) is 2.0\n"
     ]
    }
   ],
   "source": [
    "#Q11:Write a Python program to compute the distance between the points (x1, y1) and (x2, y2). \n",
    "import math\n",
    "x1=int(input(\"Enter Co-ordinate for x1:\"))\n",
    "x2=int(input(\"Enter Co-ordinate for x2:\"))\n",
    "y1=int(input(\"Enter Co-ordinate for y1:\"))\n",
    "y2=int(input(\"Enter Co-ordinate for y2:\"))\n",
    "distance=math.sqrt( ((x2-x1)**2) + ((y2-y1)**2) )\n",
    "print(\"Distance between points\" ,(x1,x2), \"and\" ,(y1,y2),\"is\",distance)"
   ]
  },
  {
   "cell_type": "code",
   "execution_count": 7,
   "metadata": {},
   "outputs": [
    {
     "name": "stdout",
     "output_type": "stream",
     "text": [
      "Enter Height in Feet:5\n",
      "There are 152.4 Cm in 5.0 ft\n"
     ]
    }
   ],
   "source": [
    "#Q12:Write a Python program to convert height in feet to centimetres\n",
    "feet=float(input(\"Enter Height in Feet:\"))\n",
    "Hcm=feet*30.48\n",
    "print(\"There are\",Hcm,\"Cm in\",feet,\"ft\")"
   ]
  },
  {
   "cell_type": "code",
   "execution_count": 13,
   "metadata": {},
   "outputs": [
    {
     "name": "stdout",
     "output_type": "stream",
     "text": [
      "Enter Height in Cm:180\n",
      "Enter Weight in Kg:75\n",
      "Your BMI is: 0.0\n"
     ]
    }
   ],
   "source": [
    "#Q13:Write a Python program to calculate body mass index \n",
    "cm=float(input(\"Enter Height in Cm:\"))\n",
    "wei=float(input(\"Enter Weight in Kg:\"))\n",
    "BMI=round(wei/(cm*cm),2)\n",
    "print(\"Your BMI is:\",BMI)"
   ]
  },
  {
   "cell_type": "code",
   "execution_count": 13,
   "metadata": {},
   "outputs": [
    {
     "name": "stdout",
     "output_type": "stream",
     "text": [
      "Enter value of n:5\n",
      "Sum of n Positive integers till 5 is  15\n"
     ]
    }
   ],
   "source": [
    "#Q14:Write a python program to sum of the first n positive integers \n",
    "n=int(input(\"Enter value of n:\"))\n",
    "sum=0\n",
    "for x in range(0,n+1):\n",
    "    sum=sum+x\n",
    "print(\"Sum of n Positive integers till\" ,n, \"is \",sum)"
   ]
  },
  {
   "cell_type": "code",
   "execution_count": 32,
   "metadata": {},
   "outputs": [
    {
     "name": "stdout",
     "output_type": "stream",
     "text": [
      "Input a four digit numbers: 12345678\n",
      "The sum of digits in the number is 12366\n"
     ]
    }
   ],
   "source": [
    "#Q15:Write a Python program to calculate the sum of the digits in an integer \n",
    "num=input(\"Enter a number\")\n",
    "sum=0\n",
    "for x in range(0,len(num)):\n",
    "    sum=int(num[x])+sum\n",
    "print(\"Sum of\",num,\"is\",sum)"
   ]
  },
  {
   "cell_type": "code",
   "execution_count": 5,
   "metadata": {},
   "outputs": [
    {
     "name": "stdout",
     "output_type": "stream",
     "text": [
      "Enter a decimal number:4\n",
      "Binary Representation of 1 is:  1Binary Representation of 2 is:  0Binary Representation of 4 is:  0"
     ]
    }
   ],
   "source": [
    "#Q16:Write a Python program to convert an decimal integer to binary \n",
    "def decimalnum(num):\n",
    "    if(num>1):\n",
    "        decimalnum(num//2)\n",
    "    print(\"Binary Representation of\",num,\"is: \",num % 2, end='')\n",
    "num=int(input(\"Enter a decimal number:\"))\n",
    "decimalnum(num)"
   ]
  },
  {
   "cell_type": "code",
   "execution_count": 13,
   "metadata": {},
   "outputs": [
    {
     "name": "stdout",
     "output_type": "stream",
     "text": [
      "Enter Text : aeiouy\n",
      "0\n",
      "6\n"
     ]
    }
   ],
   "source": [
    "#Q18:Vowel and Consonants Counter.Input a text and count the occurrences of vowels and consonant \n",
    "text=input(\"Enter Text : \")\n",
    "vowel=0\n",
    "cons=0\n",
    "for x in range(0,len(text)):\n",
    "    if(text[x]=='A' or text[x]=='E' or text[x]=='I' or text[x]=='O' or text[x]=='U'):\n",
    "        vowel=vowel+1\n",
    "    else:\n",
    "        cons=cons+1\n",
    "print(vowel)\n",
    "print(cons)"
   ]
  },
  {
   "cell_type": "code",
   "execution_count": 17,
   "metadata": {},
   "outputs": [
    {
     "name": "stdout",
     "output_type": "stream",
     "text": [
      "Enter text:rea\n",
      "Text rea is not a Palindrome\n"
     ]
    }
   ],
   "source": [
    "#Q19:Write a program to check whether given input is palindrome or not \n",
    "def reverse(s): \n",
    "    return s[::-1] \n",
    "  \n",
    "def isPalindrome(s): \n",
    "    # Calling reverse function \n",
    "    rev = reverse(s) \n",
    "  \n",
    "    # Checking if both string are equal or not \n",
    "    if (s == rev): \n",
    "        return True\n",
    "    return False\n",
    "  \n",
    "s = input(\"Enter text:\")\n",
    "ans = isPalindrome(s) \n",
    "  \n",
    "if ans == 1: \n",
    "    print(\"Text\",s, \"is Palindrome\") \n",
    "else: \n",
    "    print(\"Text\" ,s, \"is not a Palindrome\") "
   ]
  },
  {
   "cell_type": "code",
   "execution_count": 19,
   "metadata": {},
   "outputs": [
    {
     "name": "stdout",
     "output_type": "stream",
     "text": [
      "Input a binary number: 101\n",
      "The decimal value of [] 5\n"
     ]
    }
   ],
   "source": [
    "#Q17:Write a program to convert binary number to Decimal number \n",
    "b_num = list(input(\"Input a binary number: \"))\n",
    "value = 0\n",
    "\n",
    "for i in range(len(b_num)):\n",
    "\tdigit = b_num.pop()\n",
    "\tif digit == '1':\n",
    "\t\tvalue = value + pow(2, i)\n",
    "print(\"The decimal value of  number is\", value)"
   ]
  },
  {
   "cell_type": "code",
   "execution_count": 21,
   "metadata": {},
   "outputs": [
    {
     "name": "stdout",
     "output_type": "stream",
     "text": [
      "Enter text: w3 school.\n",
      "Numbers =  1\n",
      "Alphabets =  7\n",
      "Special Character =  1\n",
      "Spaces 1\n"
     ]
    }
   ],
   "source": [
    "#Q20:Write a Python program that accepts a string and calculate the number of digits and letters \n",
    "text=input(\"Enter text: \")\n",
    "num=0\n",
    "alp=0\n",
    "spc=0\n",
    "space=0\n",
    "for x in range(0,len(text)):\n",
    "    if text[x]==\" \":\n",
    "        space=space+1\n",
    "    elif text[x].isalpha():\n",
    "        alp=alp+1\n",
    "    elif text[x].isdigit():\n",
    "        num=num+1\n",
    "    else:\n",
    "        spc=spc+1\n",
    "print(\"Numbers = \",num)\n",
    "print(\"Alphabets = \",alp)\n",
    "print(\"Special Character = \",spc)\n",
    "print(\"Spaces\",space)\n",
    "    "
   ]
  },
  {
   "cell_type": "code",
   "execution_count": 69,
   "metadata": {},
   "outputs": [
    {
     "name": "stdout",
     "output_type": "stream",
     "text": [
      "* \r\n",
      "* * \r\n",
      "* * * \r\n",
      "* * * * \r\n",
      "* * * * * \r\n",
      "* * * * \r\n",
      "* * * \r\n",
      "* * \r\n",
      "* \r\n",
      "\r\n"
     ]
    }
   ],
   "source": [
    "#Q21: Write a Python program to construct the following pattern \n",
    "for i in range (0, 5):\n",
    "    for j in range(0, i + 1):\n",
    "        print(\"*\", end=' ')\n",
    "    print(\"\\r\")\n",
    "for i in range (5, 0, -1):\n",
    "    for j in range(0, i -1):\n",
    "        print(\"*\", end=' ')\n",
    "    print(\"\\r\")\n",
    "    "
   ]
  },
  {
   "cell_type": "code",
   "execution_count": 76,
   "metadata": {},
   "outputs": [
    {
     "name": "stdout",
     "output_type": "stream",
     "text": [
      "1 \r\n",
      "1 2 \r\n",
      "1 2 3 \r\n",
      "1 2 3 4 \r\n",
      "1 2 3 4 5 \r\n",
      "1 2 3 4 \r\n",
      "1 2 3 \r\n",
      "1 2 \r\n",
      "1 \r\n",
      "\r\n"
     ]
    }
   ],
   "source": [
    "#Q22: Write a Python program to construct the following pattern \n",
    "for i in range (1, 5+1):\n",
    "    for j in range(1, i + 1):\n",
    "        print(j, end=' ')\n",
    "    print(\"\\r\")\n",
    "for i in range (5, 0, -1):\n",
    "    for j in range(1, i ):\n",
    "        print(j, end=' ')\n",
    "    print(\"\\r\")"
   ]
  },
  {
   "cell_type": "code",
   "execution_count": 85,
   "metadata": {},
   "outputs": [
    {
     "name": "stdout",
     "output_type": "stream",
     "text": [
      "1\r\n",
      "22\r\n",
      "333\r\n",
      "4444\r\n",
      "55555\r\n",
      "666666\r\n",
      "7777777\r\n",
      "88888888\r\n",
      "999999999\r\n"
     ]
    }
   ],
   "source": [
    "#Q23: Write a Python program to construct the following pattern \n",
    "for i in range(1,9+1):\n",
    "    for j in range(i):\n",
    "        print(i,end='')\n",
    "    print(\"\\r\")\n"
   ]
  },
  {
   "cell_type": "code",
   "execution_count": null,
   "metadata": {},
   "outputs": [],
   "source": []
  }
 ],
 "metadata": {
  "kernelspec": {
   "display_name": "Python 3",
   "language": "python",
   "name": "python3"
  },
  "language_info": {
   "codemirror_mode": {
    "name": "ipython",
    "version": 3
   },
   "file_extension": ".py",
   "mimetype": "text/x-python",
   "name": "python",
   "nbconvert_exporter": "python",
   "pygments_lexer": "ipython3",
   "version": "3.6.5"
  }
 },
 "nbformat": 4,
 "nbformat_minor": 2
}
