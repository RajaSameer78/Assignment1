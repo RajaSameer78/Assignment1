{
 "cells": [
  {
   "cell_type": "code",
   "execution_count": 9,
   "metadata": {},
   "outputs": [
    {
     "name": "stdout",
     "output_type": "stream",
     "text": [
      "Enter Marks Of English out of 100 : 90\n",
      "Enter Marks Of Math out of 100 : 89\n",
      "Enter Marks Of Computer out of 100 : 88\n",
      "Enter Marks Of Chemistry out of 100 : 87\n",
      "Enter Marks Of Islamiat out of 100 : 86\n",
      "Enter Marks Of Science out of 100 : 85\n",
      "Enter Marks Of Arts out of 100 : 84\n",
      "Your Abtain Marks out of 700 are : 609.0\n",
      "You Got A Grade\n",
      "Your Percentage is :  87.0 %\n"
     ]
    }
   ],
   "source": [
    "english=float(input(\"Enter Marks Of English out of 100 : \"))\n",
    "if(english>100):\n",
    "    print(\"Please Enter marks out of 100\")\n",
    "math=float(input(\"Enter Marks Of Math out of 100 : \"))\n",
    "if(math>100):\n",
    "    print(\"Please Enter marks out of 100\")\n",
    "computer=float(input(\"Enter Marks Of Computer out of 100 : \"))\n",
    "if(computer>100):\n",
    "    print(\"Please Enter marks out of 100\")\n",
    "chemistry=float(input(\"Enter Marks Of Chemistry out of 100 : \"))\n",
    "if(chemistry>100):\n",
    "    print(\"Please Enter marks out of 100\")\n",
    "islamiat=float(input(\"Enter Marks Of Islamiat out of 100 : \"))\n",
    "if(islamiat>100):\n",
    "    print(\"Please Enter marks out of 100\")\n",
    "science=float(input(\"Enter Marks Of Science out of 100 : \"))\n",
    "if(science>100):\n",
    "    print(\"Please Enter marks out of 100\")\n",
    "arts=float(input(\"Enter Marks Of Arts out of 100 : \"))\n",
    "if(arts>100):\n",
    "    print(\"Please Enter marks out of 100\")\n",
    "\n",
    "obtain=english+math+computer+chemistry+islamiat+science+arts\n",
    "total=700\n",
    "percen=obtain*(100.0/700)\n",
    "print(\"-----------------MARK SHEET ----------------\")\n",
    "print(\"Your Abtain Marks out of 700 are :\", obtain)\n",
    "if(percen<60):\n",
    "    print(\"You Got F Grade \")\n",
    "elif(percen>70 and percen <80):\n",
    "    print(\"You Got b Grade\")\n",
    "elif(percen>80 and percen <90):\n",
    "    print(\"You Got A Grade\")\n",
    "elif(percen>90 and percen <100):\n",
    "    print(\"You Got A+ Grade\")\n",
    "print(\"Your Percentage is : \",percen,\"%\")\n",
    "\n"
   ]
  },
  {
   "cell_type": "markdown",
   "metadata": {},
   "source": []
  }
 ],
 "metadata": {
  "kernelspec": {
   "display_name": "Python 3",
   "language": "python",
   "name": "python3"
  },
  "language_info": {
   "codemirror_mode": {
    "name": "ipython",
    "version": 3
   },
   "file_extension": ".py",
   "mimetype": "text/x-python",
   "name": "python",
   "nbconvert_exporter": "python",
   "pygments_lexer": "ipython3",
   "version": "3.6.5"
  }
 },
 "nbformat": 4,
 "nbformat_minor": 2
}
